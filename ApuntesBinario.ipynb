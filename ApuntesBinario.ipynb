{
 "cells": [
  {
   "cell_type": "code",
   "execution_count": 5,
   "metadata": {
    "collapsed": true
   },
   "outputs": [
    {
     "name": "stdout",
     "output_type": "stream",
     "text": [
      "(-5,)\n"
     ]
    }
   ],
   "source": [
    "import struct as st\n",
    "\n",
    "import numpy as np\n",
    "\n",
    "var1 = -5\n",
    "var2 = st.pack('i', var1)\n",
    "var3 = st.unpack('i',var2)\n",
    "print(var3)"
   ]
  },
  {
   "cell_type": "markdown",
   "source": [
    "![Matrix indexing](img/formatosPack.png)"
   ],
   "metadata": {
    "collapsed": false
   }
  },
  {
   "cell_type": "code",
   "execution_count": 6,
   "outputs": [
    {
     "name": "stdout",
     "output_type": "stream",
     "text": [
      "[21 50 42 93 51 71 15 84 60 64 24 12 25 91  2 12 62 28  2 65  6 54 30 66\n",
      " 91 82 83 39 62  2  4 79 82 26 92 17 82  3  5 26 89 27 17 80 79 86 10 62\n",
      " 99 55 73 34 86 85 43 21 44 59 62 47 23  8 72 59 31 48 96  9 88 29 47 99\n",
      " 49 56 55 69 13 42 63 54 59 43 49 56 29 23 41 57 94 55 87 71 52 34 49 94\n",
      " 96 80 77 16]\n"
     ]
    }
   ],
   "source": [
    "#Archivos binario\n",
    "\n",
    "var1 = np.random.randint(1, 100, 100)\n",
    "print(var1)\n",
    "#Abre un archivo con permisos de escribir, en formato binario\n",
    "fHdl = open(\"MiPrimerbin.bin\", 'wb')\n",
    "var2 = st.pack(\"H\"*int(len(var1)), *var1)\n",
    "fHdl.write(var2)\n",
    "fHdl.close()"
   ],
   "metadata": {
    "collapsed": false,
    "pycharm": {
     "name": "#%%\n"
    }
   }
  },
  {
   "cell_type": "code",
   "execution_count": 7,
   "outputs": [
    {
     "name": "stdout",
     "output_type": "stream",
     "text": [
      "(21, 50, 42, 93, 51, 71, 15, 84, 60, 64, 24, 12, 25, 91, 2, 12, 62, 28, 2, 65, 6, 54, 30, 66, 91, 82, 83, 39, 62, 2, 4, 79, 82, 26, 92, 17, 82, 3, 5, 26, 89, 27, 17, 80, 79, 86, 10, 62, 99, 55, 73, 34, 86, 85, 43, 21, 44, 59, 62, 47, 23, 8, 72, 59, 31, 48, 96, 9, 88, 29, 47, 99, 49, 56, 55, 69, 13, 42, 63, 54, 59, 43, 49, 56, 29, 23, 41, 57, 94, 55, 87, 71, 52, 34, 49, 94, 96, 80, 77, 16)\n"
     ]
    }
   ],
   "source": [
    "fHdl = open(\"MiPrimerbin.bin\", 'rb')\n",
    "var2 = fHdl.read()\n",
    "var3 = st.unpack(\"H\"*int(len(var2)/2), var2)\n",
    "fHdl.close()\n",
    "print(var3)"
   ],
   "metadata": {
    "collapsed": false,
    "pycharm": {
     "name": "#%%\n"
    }
   }
  }
 ],
 "metadata": {
  "kernelspec": {
   "display_name": "Python 3",
   "language": "python",
   "name": "python3"
  },
  "language_info": {
   "codemirror_mode": {
    "name": "ipython",
    "version": 2
   },
   "file_extension": ".py",
   "mimetype": "text/x-python",
   "name": "python",
   "nbconvert_exporter": "python",
   "pygments_lexer": "ipython2",
   "version": "2.7.6"
  }
 },
 "nbformat": 4,
 "nbformat_minor": 0
}